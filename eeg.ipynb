{
  "cells": [
    {
      "cell_type": "code",
      "execution_count": null,
      "id": "8efa2ef0-85bd-4f1d-9563-979a278322a8",
      "metadata": {
        "id": "8efa2ef0-85bd-4f1d-9563-979a278322a8",
        "outputId": "effb03df-766b-436a-ca18-22d589305109"
      },
      "outputs": [
        {
          "name": "stdout",
          "output_type": "stream",
          "text": [
            "Defaulting to user installation because normal site-packages is not writeable\n",
            "Requirement already satisfied: tensorflow in /home/user36/.local/lib/python3.9/site-packages (2.17.0)\n",
            "Requirement already satisfied: absl-py>=1.0.0 in /home/user36/.local/lib/python3.9/site-packages (from tensorflow) (2.1.0)\n",
            "Requirement already satisfied: astunparse>=1.6.0 in /home/user36/.local/lib/python3.9/site-packages (from tensorflow) (1.6.3)\n",
            "Requirement already satisfied: flatbuffers>=24.3.25 in /home/user36/.local/lib/python3.9/site-packages (from tensorflow) (24.3.25)\n",
            "Requirement already satisfied: gast!=0.5.0,!=0.5.1,!=0.5.2,>=0.2.1 in /home/user36/.local/lib/python3.9/site-packages (from tensorflow) (0.6.0)\n",
            "Requirement already satisfied: google-pasta>=0.1.1 in /home/user36/.local/lib/python3.9/site-packages (from tensorflow) (0.2.0)\n",
            "Requirement already satisfied: h5py>=3.10.0 in /home/user36/.local/lib/python3.9/site-packages (from tensorflow) (3.11.0)\n",
            "Requirement already satisfied: libclang>=13.0.0 in /home/user36/.local/lib/python3.9/site-packages (from tensorflow) (18.1.1)\n",
            "Requirement already satisfied: ml-dtypes<0.5.0,>=0.3.1 in /home/user36/.local/lib/python3.9/site-packages (from tensorflow) (0.4.0)\n",
            "Requirement already satisfied: opt-einsum>=2.3.2 in /home/user36/.local/lib/python3.9/site-packages (from tensorflow) (3.3.0)\n",
            "Requirement already satisfied: packaging in /opt/intel/oneapi/intelpython/lib/python3.9/site-packages (from tensorflow) (23.2)\n",
            "Requirement already satisfied: protobuf!=4.21.0,!=4.21.1,!=4.21.2,!=4.21.3,!=4.21.4,!=4.21.5,<5.0.0dev,>=3.20.3 in /home/user36/.local/lib/python3.9/site-packages (from tensorflow) (4.25.4)\n",
            "Requirement already satisfied: requests<3,>=2.21.0 in /opt/intel/oneapi/intelpython/lib/python3.9/site-packages (from tensorflow) (2.31.0)\n",
            "Requirement already satisfied: setuptools in /opt/intel/oneapi/intelpython/lib/python3.9/site-packages (from tensorflow) (68.2.2)\n",
            "Requirement already satisfied: six>=1.12.0 in /opt/intel/oneapi/intelpython/lib/python3.9/site-packages (from tensorflow) (1.16.0)\n",
            "Requirement already satisfied: termcolor>=1.1.0 in /home/user36/.local/lib/python3.9/site-packages (from tensorflow) (2.4.0)\n",
            "Requirement already satisfied: typing-extensions>=3.6.6 in /opt/intel/oneapi/intelpython/lib/python3.9/site-packages (from tensorflow) (4.8.0)\n",
            "Requirement already satisfied: wrapt>=1.11.0 in /home/user36/.local/lib/python3.9/site-packages (from tensorflow) (1.16.0)\n",
            "Requirement already satisfied: grpcio<2.0,>=1.24.3 in /home/user36/.local/lib/python3.9/site-packages (from tensorflow) (1.66.1)\n",
            "Requirement already satisfied: tensorboard<2.18,>=2.17 in /home/user36/.local/lib/python3.9/site-packages (from tensorflow) (2.17.1)\n",
            "Requirement already satisfied: keras>=3.2.0 in /home/user36/.local/lib/python3.9/site-packages (from tensorflow) (3.5.0)\n",
            "Requirement already satisfied: tensorflow-io-gcs-filesystem>=0.23.1 in /home/user36/.local/lib/python3.9/site-packages (from tensorflow) (0.37.1)\n",
            "Requirement already satisfied: numpy<2.0.0,>=1.23.5 in /opt/intel/oneapi/intelpython/lib/python3.9/site-packages (from tensorflow) (1.24.3)\n",
            "Requirement already satisfied: wheel<1.0,>=0.23.0 in /opt/intel/oneapi/intelpython/lib/python3.9/site-packages (from astunparse>=1.6.0->tensorflow) (0.41.2)\n",
            "Requirement already satisfied: rich in /home/user36/.local/lib/python3.9/site-packages (from keras>=3.2.0->tensorflow) (13.8.0)\n",
            "Requirement already satisfied: namex in /home/user36/.local/lib/python3.9/site-packages (from keras>=3.2.0->tensorflow) (0.0.8)\n",
            "Requirement already satisfied: optree in /home/user36/.local/lib/python3.9/site-packages (from keras>=3.2.0->tensorflow) (0.12.1)\n",
            "Requirement already satisfied: charset-normalizer<4,>=2 in /opt/intel/oneapi/intelpython/lib/python3.9/site-packages (from requests<3,>=2.21.0->tensorflow) (3.3.0)\n",
            "Requirement already satisfied: idna<4,>=2.5 in /opt/intel/oneapi/intelpython/lib/python3.9/site-packages (from requests<3,>=2.21.0->tensorflow) (3.4)\n",
            "Requirement already satisfied: urllib3<3,>=1.21.1 in /opt/intel/oneapi/intelpython/lib/python3.9/site-packages (from requests<3,>=2.21.0->tensorflow) (2.0.7)\n",
            "Requirement already satisfied: certifi>=2017.4.17 in /opt/intel/oneapi/intelpython/lib/python3.9/site-packages (from requests<3,>=2.21.0->tensorflow) (2024.7.4)\n",
            "Requirement already satisfied: markdown>=2.6.8 in /home/user36/.local/lib/python3.9/site-packages (from tensorboard<2.18,>=2.17->tensorflow) (3.7)\n",
            "Requirement already satisfied: tensorboard-data-server<0.8.0,>=0.7.0 in /home/user36/.local/lib/python3.9/site-packages (from tensorboard<2.18,>=2.17->tensorflow) (0.7.2)\n",
            "Requirement already satisfied: werkzeug>=1.0.1 in /home/user36/.local/lib/python3.9/site-packages (from tensorboard<2.18,>=2.17->tensorflow) (3.0.4)\n",
            "Requirement already satisfied: importlib-metadata>=4.4 in /opt/intel/oneapi/intelpython/lib/python3.9/site-packages (from markdown>=2.6.8->tensorboard<2.18,>=2.17->tensorflow) (7.1.0)\n",
            "Requirement already satisfied: MarkupSafe>=2.1.1 in /opt/intel/oneapi/intelpython/lib/python3.9/site-packages (from werkzeug>=1.0.1->tensorboard<2.18,>=2.17->tensorflow) (2.1.5)\n",
            "Requirement already satisfied: markdown-it-py>=2.2.0 in /home/user36/.local/lib/python3.9/site-packages (from rich->keras>=3.2.0->tensorflow) (3.0.0)\n",
            "Requirement already satisfied: pygments<3.0.0,>=2.13.0 in /opt/intel/oneapi/intelpython/lib/python3.9/site-packages (from rich->keras>=3.2.0->tensorflow) (2.17.2)\n",
            "Requirement already satisfied: zipp>=0.5 in /opt/intel/oneapi/intelpython/lib/python3.9/site-packages (from importlib-metadata>=4.4->markdown>=2.6.8->tensorboard<2.18,>=2.17->tensorflow) (3.17.0)\n",
            "Requirement already satisfied: mdurl~=0.1 in /home/user36/.local/lib/python3.9/site-packages (from markdown-it-py>=2.2.0->rich->keras>=3.2.0->tensorflow) (0.1.2)\n",
            "Note: you may need to restart the kernel to use updated packages.\n"
          ]
        }
      ],
      "source": [
        "pip install tensorflow"
      ]
    },
    {
      "cell_type": "code",
      "execution_count": null,
      "id": "8ba7388f",
      "metadata": {
        "id": "8ba7388f"
      },
      "outputs": [],
      "source": [
        "import pandas as pd\n",
        "import numpy as np\n",
        "from sklearn.preprocessing import StandardScaler\n",
        "from sklearn.model_selection import train_test_split\n",
        "# import tensorflow as tf\n",
        "from tensorflow.keras.models import Sequential\n",
        "from tensorflow.keras.layers import LSTM, Dense, Dropout\n",
        "from tensorflow.keras.optimizers import Adam"
      ]
    },
    {
      "cell_type": "code",
      "execution_count": null,
      "id": "02747831",
      "metadata": {
        "colab": {
          "base_uri": "https://localhost:8080/"
        },
        "id": "02747831",
        "outputId": "5407795b-bda3-4114-eace-6b0c843a6937"
      },
      "outputs": [
        {
          "name": "stdout",
          "output_type": "stream",
          "text": [
            "[[[-2.64946696e-01 -3.70681964e-01 -6.46577775e-01 ... -1.01961503e+00\n",
            "    1.09091738e-01 -3.12323682e-01]\n",
            "  [-3.46809447e-01 -3.45012249e-01 -7.58439157e-01 ... -1.19661438e+00\n",
            "    9.81392368e-02 -4.13206289e-01]\n",
            "  [-2.64946696e-01 -3.50146972e-01 -5.81328305e-01 ... -1.21835197e+00\n",
            "    7.80590682e-02 -4.62870299e-01]\n",
            "  ...\n",
            "  [-2.98320974e+00 -1.11717051e+00 -2.80442639e+00 ... -2.07230352e+00\n",
            "   -2.96103615e+00 -2.70242046e+00]\n",
            "  [-3.11964633e+00 -1.24449449e+00 -3.18191857e+00 ... -2.20583950e+00\n",
            "   -2.87981174e+00 -2.78933544e+00]\n",
            "  [-3.01679426e+00 -1.12949111e+00 -3.24716808e+00 ... -2.20583950e+00\n",
            "   -2.72831198e+00 -2.72259461e+00]]\n",
            "\n",
            " [[-6.05919402e-01 -5.78305568e-02 -5.91797623e-01 ... -2.30859939e-01\n",
            "   -4.86045427e-01 -5.49089337e-02]\n",
            "  [-4.90220834e-01 -9.99406210e-03 -5.28191839e-01 ... -3.48960789e-01\n",
            "   -5.25626675e-01 -8.48339604e-02]\n",
            "  [-4.63782659e-01 -2.03946748e-02 -4.93966916e-01 ... -2.91696058e-01\n",
            "   -4.55889307e-01 -3.54622226e-02]\n",
            "  ...\n",
            "  [-1.36528208e-01 -1.97181405e-01  8.32733442e-02 ...  7.03287438e-01\n",
            "    7.37269788e-02  8.12294333e-02]\n",
            "  [-1.53058365e-01 -3.07405759e-01  1.12616966e-01 ...  5.95914319e-01\n",
            "    1.13308227e-01  2.43764417e-02]\n",
            "  [-2.22477505e-01 -4.15562686e-01 -1.51531532e-01 ...  3.31059750e-01\n",
            "   -5.43550182e-03 -9.53065814e-02]]\n",
            "\n",
            " [[ 1.15900473e-01 -3.38836250e-01  4.08618716e-02 ... -4.54389819e-01\n",
            "   -4.60678227e-01 -4.52633751e-01]\n",
            "  [-1.28333390e-01 -5.03860415e-01 -9.25540562e-02 ... -6.33156393e-01\n",
            "   -5.55233959e-01 -6.68243057e-01]\n",
            "  [-1.13255389e-01 -4.75567740e-01 -5.31401715e-02 ... -5.15847483e-01\n",
            "   -4.98498728e-01 -6.82939876e-01]\n",
            "  ...\n",
            "  [-9.72575547e-01 -2.04334669e+00 -4.95827489e-01 ... -3.70591665e-01\n",
            "    3.92655055e-01 -6.60889995e-01]\n",
            "  [-9.63537937e-01 -1.96083013e+00 -4.44288040e-01 ... -1.89037840e-01\n",
            "    5.32116434e-01 -4.94279397e-01]\n",
            "  [-9.36402106e-01 -1.91603414e+00 -3.95774194e-01 ... -2.70266433e-02\n",
            "    7.09398295e-01 -1.90479835e-01]]\n",
            "\n",
            " ...\n",
            "\n",
            " [[-1.90156559e-01 -2.85288312e-01 -8.04417216e-01 ... -1.19573528e+00\n",
            "    7.41660401e-02 -2.47204672e-01]\n",
            "  [-4.01070227e-01 -3.80260843e-01 -1.28118039e+00 ... -1.68857219e+00\n",
            "   -3.36172003e-02 -3.94937883e-01]\n",
            "  [-5.87304223e-01 -4.66886076e-01 -1.81754364e+00 ... -2.21011116e+00\n",
            "   -1.04164054e-01 -5.02085117e-01]\n",
            "  ...\n",
            "  [-1.18863163e+00 -1.03464243e+00 -2.13043007e+00 ... -3.20095066e-01\n",
            "   -2.87811963e+00 -1.36901373e+00]\n",
            "  [-1.05176548e+00 -9.92893940e-01 -2.11055078e+00 ... -3.53589901e-01\n",
            "   -2.78209357e+00 -1.33330005e+00]\n",
            "  [-6.99490699e-01 -8.82268208e-01 -1.71822271e+00 ...  5.26767343e-03\n",
            "   -2.62727785e+00 -1.13199014e+00]]\n",
            "\n",
            " [[ 8.94870872e-01 -2.02199361e-01  1.82505105e-01 ...  3.54725708e-01\n",
            "   -3.63283375e-02  2.55338159e-01]\n",
            "  [ 9.27288446e-01 -2.01097134e-01  1.37464022e-01 ...  3.64575528e-01\n",
            "    9.29646409e-03  2.84193652e-01]\n",
            "  [ 8.70338290e-01 -2.29708932e-01  7.88120879e-02 ...  2.93988831e-01\n",
            "   -6.46457379e-02  2.10449116e-01]\n",
            "  ...\n",
            "  [ 4.85712002e-01  1.63657016e+00  1.79361681e-01 ...  1.17526779e-01\n",
            "    5.34759132e-01  6.76963592e-01]\n",
            "  [ 3.90214461e-01  1.42859301e+00  1.38513159e-01 ...  9.78271511e-02\n",
            "    4.07327851e-01  5.91193897e-01]\n",
            "  [ 2.81573035e-01  1.18320301e+00  9.87097869e-02 ...  8.71583407e-02\n",
            "    2.50003323e-01  5.05427259e-01]]\n",
            "\n",
            " [[ 4.71288136e-02  3.12954104e-01  1.55092473e-01 ...  1.88308585e-01\n",
            "   -1.26890768e-02  5.75472649e-02]\n",
            "  [ 3.48475983e-02  3.05872271e-01  1.48239346e-01 ...  1.68865854e-01\n",
            "   -5.90928727e-03  5.18826385e-02]\n",
            "  [ 2.25663830e-02  2.98796523e-01  1.41386210e-01 ...  1.49423124e-01\n",
            "    8.75146467e-04  4.62238008e-02]\n",
            "  ...\n",
            "  [ 9.27502802e-01  1.10277656e+00  5.82899610e-01 ...  7.89830971e-01\n",
            "    8.71285345e-01  1.23095033e+00]\n",
            "  [ 9.55429413e-01  1.12516076e+00  6.11418116e-01 ...  8.01268375e-01\n",
            "    8.91986436e-01  1.29800309e+00]\n",
            "  [ 9.58368176e-01  1.06120503e+00  5.60859001e-01 ...  8.21852236e-01\n",
            "    8.99290247e-01  1.29038253e+00]]]\n"
          ]
        }
      ],
      "source": [
        "import os\n",
        "eeg_directory = './'\n",
        "def load_and_preprocess_data(subject_file):\n",
        "    # Load the EEG recording\n",
        "    subject_data = pd.read_csv(subject_file)\n",
        "    scaler = StandardScaler()\n",
        "    subject_normalized = scaler.fit_transform(subject_data)\n",
        "    return subject_normalized\n",
        "eeg_data_list = []\n",
        "for i in range(1, 101):\n",
        "    subject_file = os.path.join(eeg_directory, f'Subject_{i}.csv')\n",
        "    subject_data_normalized = load_and_preprocess_data(subject_file)\n",
        "    eeg_data_list.append(subject_data_normalized)\n",
        "# Ensure all arrays in eeg_data_list have the same shape\n",
        "min_length = min([arr.shape[0] for arr in eeg_data_list])\n",
        "eeg_data_list_equal = [arr[:min_length, :] for arr in eeg_data_list]\n",
        "eeg_data = np.array(eeg_data_list_equal)\n",
        "print(eeg_data)\n"
      ]
    },
    {
      "cell_type": "code",
      "execution_count": null,
      "id": "b7c3f3e4",
      "metadata": {
        "colab": {
          "base_uri": "https://localhost:8080/"
        },
        "id": "b7c3f3e4",
        "outputId": "7f51050d-52db-4564-90db-0f3168286044"
      },
      "outputs": [
        {
          "data": {
            "text/plain": [
              "array([[[-2.64946696e-01, -3.70681964e-01, -6.46577775e-01, ...,\n",
              "         -1.01961503e+00,  1.09091738e-01, -3.12323682e-01],\n",
              "        [-3.46809447e-01, -3.45012249e-01, -7.58439157e-01, ...,\n",
              "         -1.19661438e+00,  9.81392368e-02, -4.13206289e-01],\n",
              "        [-2.64946696e-01, -3.50146972e-01, -5.81328305e-01, ...,\n",
              "         -1.21835197e+00,  7.80590682e-02, -4.62870299e-01],\n",
              "        ...,\n",
              "        [-2.98320974e+00, -1.11717051e+00, -2.80442639e+00, ...,\n",
              "         -2.07230352e+00, -2.96103615e+00, -2.70242046e+00],\n",
              "        [-3.11964633e+00, -1.24449449e+00, -3.18191857e+00, ...,\n",
              "         -2.20583950e+00, -2.87981174e+00, -2.78933544e+00],\n",
              "        [-3.01679426e+00, -1.12949111e+00, -3.24716808e+00, ...,\n",
              "         -2.20583950e+00, -2.72831198e+00, -2.72259461e+00]],\n",
              "\n",
              "       [[-6.05919402e-01, -5.78305568e-02, -5.91797623e-01, ...,\n",
              "         -2.30859939e-01, -4.86045427e-01, -5.49089337e-02],\n",
              "        [-4.90220834e-01, -9.99406210e-03, -5.28191839e-01, ...,\n",
              "         -3.48960789e-01, -5.25626675e-01, -8.48339604e-02],\n",
              "        [-4.63782659e-01, -2.03946748e-02, -4.93966916e-01, ...,\n",
              "         -2.91696058e-01, -4.55889307e-01, -3.54622226e-02],\n",
              "        ...,\n",
              "        [-1.36528208e-01, -1.97181405e-01,  8.32733442e-02, ...,\n",
              "          7.03287438e-01,  7.37269788e-02,  8.12294333e-02],\n",
              "        [-1.53058365e-01, -3.07405759e-01,  1.12616966e-01, ...,\n",
              "          5.95914319e-01,  1.13308227e-01,  2.43764417e-02],\n",
              "        [-2.22477505e-01, -4.15562686e-01, -1.51531532e-01, ...,\n",
              "          3.31059750e-01, -5.43550182e-03, -9.53065814e-02]],\n",
              "\n",
              "       [[ 1.15900473e-01, -3.38836250e-01,  4.08618716e-02, ...,\n",
              "         -4.54389819e-01, -4.60678227e-01, -4.52633751e-01],\n",
              "        [-1.28333390e-01, -5.03860415e-01, -9.25540562e-02, ...,\n",
              "         -6.33156393e-01, -5.55233959e-01, -6.68243057e-01],\n",
              "        [-1.13255389e-01, -4.75567740e-01, -5.31401715e-02, ...,\n",
              "         -5.15847483e-01, -4.98498728e-01, -6.82939876e-01],\n",
              "        ...,\n",
              "        [-9.72575547e-01, -2.04334669e+00, -4.95827489e-01, ...,\n",
              "         -3.70591665e-01,  3.92655055e-01, -6.60889995e-01],\n",
              "        [-9.63537937e-01, -1.96083013e+00, -4.44288040e-01, ...,\n",
              "         -1.89037840e-01,  5.32116434e-01, -4.94279397e-01],\n",
              "        [-9.36402106e-01, -1.91603414e+00, -3.95774194e-01, ...,\n",
              "         -2.70266433e-02,  7.09398295e-01, -1.90479835e-01]],\n",
              "\n",
              "       ...,\n",
              "\n",
              "       [[-1.90156559e-01, -2.85288312e-01, -8.04417216e-01, ...,\n",
              "         -1.19573528e+00,  7.41660401e-02, -2.47204672e-01],\n",
              "        [-4.01070227e-01, -3.80260843e-01, -1.28118039e+00, ...,\n",
              "         -1.68857219e+00, -3.36172003e-02, -3.94937883e-01],\n",
              "        [-5.87304223e-01, -4.66886076e-01, -1.81754364e+00, ...,\n",
              "         -2.21011116e+00, -1.04164054e-01, -5.02085117e-01],\n",
              "        ...,\n",
              "        [-1.18863163e+00, -1.03464243e+00, -2.13043007e+00, ...,\n",
              "         -3.20095066e-01, -2.87811963e+00, -1.36901373e+00],\n",
              "        [-1.05176548e+00, -9.92893940e-01, -2.11055078e+00, ...,\n",
              "         -3.53589901e-01, -2.78209357e+00, -1.33330005e+00],\n",
              "        [-6.99490699e-01, -8.82268208e-01, -1.71822271e+00, ...,\n",
              "          5.26767343e-03, -2.62727785e+00, -1.13199014e+00]],\n",
              "\n",
              "       [[ 8.94870872e-01, -2.02199361e-01,  1.82505105e-01, ...,\n",
              "          3.54725708e-01, -3.63283375e-02,  2.55338159e-01],\n",
              "        [ 9.27288446e-01, -2.01097134e-01,  1.37464022e-01, ...,\n",
              "          3.64575528e-01,  9.29646409e-03,  2.84193652e-01],\n",
              "        [ 8.70338290e-01, -2.29708932e-01,  7.88120879e-02, ...,\n",
              "          2.93988831e-01, -6.46457379e-02,  2.10449116e-01],\n",
              "        ...,\n",
              "        [ 4.85712002e-01,  1.63657016e+00,  1.79361681e-01, ...,\n",
              "          1.17526779e-01,  5.34759132e-01,  6.76963592e-01],\n",
              "        [ 3.90214461e-01,  1.42859301e+00,  1.38513159e-01, ...,\n",
              "          9.78271511e-02,  4.07327851e-01,  5.91193897e-01],\n",
              "        [ 2.81573035e-01,  1.18320301e+00,  9.87097869e-02, ...,\n",
              "          8.71583407e-02,  2.50003323e-01,  5.05427259e-01]],\n",
              "\n",
              "       [[ 4.71288136e-02,  3.12954104e-01,  1.55092473e-01, ...,\n",
              "          1.88308585e-01, -1.26890768e-02,  5.75472649e-02],\n",
              "        [ 3.48475983e-02,  3.05872271e-01,  1.48239346e-01, ...,\n",
              "          1.68865854e-01, -5.90928727e-03,  5.18826385e-02],\n",
              "        [ 2.25663830e-02,  2.98796523e-01,  1.41386210e-01, ...,\n",
              "          1.49423124e-01,  8.75146467e-04,  4.62238008e-02],\n",
              "        ...,\n",
              "        [ 9.27502802e-01,  1.10277656e+00,  5.82899610e-01, ...,\n",
              "          7.89830971e-01,  8.71285345e-01,  1.23095033e+00],\n",
              "        [ 9.55429413e-01,  1.12516076e+00,  6.11418116e-01, ...,\n",
              "          8.01268375e-01,  8.91986436e-01,  1.29800309e+00],\n",
              "        [ 9.58368176e-01,  1.06120503e+00,  5.60859001e-01, ...,\n",
              "          8.21852236e-01,  8.99290247e-01,  1.29038253e+00]]])"
            ]
          },
          "execution_count": 9,
          "metadata": {},
          "output_type": "execute_result"
        }
      ],
      "source": [
        "eeg_data"
      ]
    },
    {
      "cell_type": "code",
      "execution_count": null,
      "id": "1ea0829a",
      "metadata": {
        "id": "1ea0829a"
      },
      "outputs": [],
      "source": [
        "project_datasets_path = './final_processed_100.csv'\n",
        "project_datasets = pd.read_csv(project_datasets_path)\n",
        "labels = project_datasets['lables'].values\n",
        "from sklearn.preprocessing import LabelEncoder\n",
        "label_encoder = LabelEncoder()\n",
        "labels_encoded = label_encoder.fit_transform(labels)\n",
        "sequence_length = 100"
      ]
    },
    {
      "cell_type": "code",
      "execution_count": null,
      "id": "e9dec4b6-2f2c-4f1d-a656-6c4c55fb269b",
      "metadata": {
        "id": "e9dec4b6-2f2c-4f1d-a656-6c4c55fb269b"
      },
      "outputs": [],
      "source": [
        "X, y = [], []\n",
        "for subject_data, label in zip(eeg_data, labels_encoded):\n",
        "    for i in range(len(subject_data) - sequence_length):\n",
        "        X.append(subject_data[i:i+sequence_length])\n",
        "        y.append(label)\n",
        "X = np.array(X)\n",
        "y = np.array(y)\n",
        "from sklearn.metrics import classification_report\n",
        "from tensorflow.keras.utils import to_categorical\n",
        "y = to_categorical(y, num_classes=3)"
      ]
    },
    {
      "cell_type": "code",
      "execution_count": null,
      "id": "36ea2fce",
      "metadata": {
        "colab": {
          "base_uri": "https://localhost:8080/"
        },
        "id": "36ea2fce",
        "outputId": "dba6cb48-e4db-44a0-f8c8-e1d8e2fb3644"
      },
      "outputs": [
        {
          "name": "stderr",
          "output_type": "stream",
          "text": [
            "/home/user36/.local/lib/python3.9/site-packages/keras/src/layers/rnn/rnn.py:204: UserWarning: Do not pass an `input_shape`/`input_dim` argument to a layer. When using Sequential models, prefer using an `Input(shape)` object as the first layer in the model instead.\n",
            "  super().__init__(**kwargs)\n"
          ]
        }
      ],
      "source": [
        "X_train, X_test, y_train, y_test = train_test_split(X, y, test_size=0.2, random_state=42)\n",
        "model = Sequential()\n",
        "model.add(LSTM(100, input_shape=(sequence_length, X_train.shape[2]), return_sequences=True))\n",
        "model.add(Dropout(0.2))\n",
        "model.add(LSTM(100, return_sequences=False))\n",
        "model.add(Dropout(0.2))\n",
        "model.add(Dense(3, activation='softmax'))\n",
        "model.compile(optimizer=Adam(learning_rate=0.001), loss='categorical_crossentropy', metrics=['accuracy'])"
      ]
    },
    {
      "cell_type": "code",
      "execution_count": null,
      "id": "0297a129-f69d-4b1c-bde2-824f7e344233",
      "metadata": {
        "id": "0297a129-f69d-4b1c-bde2-824f7e344233",
        "outputId": "fc2c6f92-4eab-4028-a8c3-3b1f0c0706df"
      },
      "outputs": [
        {
          "name": "stdout",
          "output_type": "stream",
          "text": [
            "Epoch 1/3\n",
            "\u001b[1m134530/134530\u001b[0m \u001b[32m━━━━━━━━━━━━━━━━━━━━\u001b[0m\u001b[37m\u001b[0m \u001b[1m25714s\u001b[0m 191ms/step - accuracy: 0.7367 - loss: 0.5854 - val_accuracy: 0.9572 - val_loss: 0.1169\n",
            "Epoch 2/3\n",
            "\u001b[1m134530/134530\u001b[0m \u001b[32m━━━━━━━━━━━━━━━━━━━━\u001b[0m\u001b[37m\u001b[0m \u001b[1m24584s\u001b[0m 183ms/step - accuracy: 0.9602 - loss: 0.1100 - val_accuracy: 0.9766 - val_loss: 0.0651\n",
            "Epoch 3/3\n",
            "\u001b[1m134530/134530\u001b[0m \u001b[32m━━━━━━━━━━━━━━━━━━━━\u001b[0m\u001b[37m\u001b[0m \u001b[1m24602s\u001b[0m 183ms/step - accuracy: 0.9620 - loss: 0.1021 - val_accuracy: 0.8032 - val_loss: 0.4687\n"
          ]
        }
      ],
      "source": [
        "history = model.fit(X_train, y_train, epochs=3, batch_size=32, validation_split=0.2)"
      ]
    },
    {
      "cell_type": "code",
      "execution_count": null,
      "id": "7eaaee60-bcc5-4ba4-9d77-fc68bbacfd69",
      "metadata": {
        "id": "7eaaee60-bcc5-4ba4-9d77-fc68bbacfd69",
        "outputId": "5f289a0c-dc90-49ce-b4ff-ad24cdf92bd9"
      },
      "outputs": [
        {
          "name": "stdout",
          "output_type": "stream",
          "text": [
            "\u001b[1m42041/42041\u001b[0m \u001b[32m━━━━━━━━━━━━━━━━━━━━\u001b[0m\u001b[37m\u001b[0m \u001b[1m2866s\u001b[0m 68ms/step - accuracy: 0.8020 - loss: 0.4710\n",
            "Test Accuracy: 80.22%\n",
            "\u001b[1m42041/42041\u001b[0m \u001b[32m━━━━━━━━━━━━━━━━━━━━\u001b[0m\u001b[37m\u001b[0m \u001b[1m2817s\u001b[0m 67ms/step\n",
            "              precision    recall  f1-score   support\n",
            "\n",
            "           0       0.79      0.89      0.84    699719\n",
            "           1       0.83      0.72      0.77    484346\n",
            "           2       0.75      0.68      0.71    161235\n",
            "\n",
            "    accuracy                           0.80   1345300\n",
            "   macro avg       0.79      0.76      0.78   1345300\n",
            "weighted avg       0.80      0.80      0.80   1345300\n",
            "\n"
          ]
        }
      ],
      "source": [
        "loss, accuracy = model.evaluate(X_test, y_test)\n",
        "print(f'Test Accuracy: {accuracy * 100:.2f}%')\n",
        "y_pred = model.predict(X_test)\n",
        "y_pred_classes = np.argmax(y_pred, axis=1)\n",
        "y_test_classes = np.argmax(y_test, axis=1)\n",
        "from sklearn.metrics import classification_report\n",
        "print(classification_report(y_test_classes, y_pred_classes))"
      ]
    },
    {
      "cell_type": "code",
      "execution_count": null,
      "id": "b6b92647-d786-4226-b82b-b259cc2815b7",
      "metadata": {
        "id": "b6b92647-d786-4226-b82b-b259cc2815b7",
        "outputId": "a9cdbcbb-449c-49f8-b6fa-1817eeee5bec"
      },
      "outputs": [
        {
          "name": "stderr",
          "output_type": "stream",
          "text": [
            "WARNING:absl:You are saving your model as an HDF5 file via `model.save()` or `keras.saving.save_model(model)`. This file format is considered legacy. We recommend using instead the native Keras format, e.g. `model.save('my_model.keras')` or `keras.saving.save_model(model, 'my_model.keras')`. \n"
          ]
        }
      ],
      "source": [
        "model.save('eeg_classification_model.h5')"
      ]
    },
    {
      "cell_type": "code",
      "execution_count": null,
      "id": "cebb4d26",
      "metadata": {
        "id": "cebb4d26",
        "outputId": "22bd3d3c-d561-41a0-8ea6-48e5ee729654"
      },
      "outputs": [
        {
          "data": {
            "text/plain": [
              "['eeg_model.joblib']"
            ]
          },
          "execution_count": 16,
          "metadata": {},
          "output_type": "execute_result"
        }
      ],
      "source": [
        "import joblib\n",
        "joblib.dump(model, 'eeg_model.joblib')"
      ]
    },
    {
      "cell_type": "code",
      "execution_count": null,
      "id": "_5c8IWHFJa8U",
      "metadata": {
        "id": "_5c8IWHFJa8U"
      },
      "outputs": [],
      "source": [
        "import numpy as np\n",
        "import matplotlib.pyplot as plt\n",
        "import seaborn as sns\n",
        "from sklearn.metrics import classification_report, confusion_matrix\n",
        "import pandas as pd"
      ]
    },
    {
      "cell_type": "code",
      "execution_count": null,
      "id": "477b3866-22db-48f0-b6f1-dd18955fb3f1",
      "metadata": {
        "id": "477b3866-22db-48f0-b6f1-dd18955fb3f1"
      },
      "outputs": [],
      "source": [
        "report = classification_report(y_test_classes, y_pred_classes, output_dict=True)\n",
        "conf_matrix = confusion_matrix(y_test_classes, y_pred_classes)"
      ]
    },
    {
      "cell_type": "code",
      "execution_count": null,
      "id": "e27ee197-ff88-4705-90e4-6b8242a21882",
      "metadata": {
        "id": "e27ee197-ff88-4705-90e4-6b8242a21882"
      },
      "outputs": [],
      "source": [
        "report_text = classification_report(y_test_classes, y_pred_classes)\n",
        "with open('classification_report.txt', 'w') as f:\n",
        "    f.write(report_text)"
      ]
    },
    {
      "cell_type": "code",
      "execution_count": null,
      "id": "fae02907-832b-4dc3-983f-7d5e8e7ff977",
      "metadata": {
        "id": "fae02907-832b-4dc3-983f-7d5e8e7ff977",
        "outputId": "df0778bc-e32f-4ac9-82c9-c3821ed83ca8"
      },
      "outputs": [
        {
          "data": {
            "image/png": "[encoded data removed]",
            "text/plain": [
              "<Figure size 1000x800 with 2 Axes>"
            ]
          },
          "metadata": {},
          "output_type": "display_data"
        }
      ],
      "source": [
        "# Create a DataFrame for the confusion matrix to use with seaborn\n",
        "conf_matrix_df = pd.DataFrame(conf_matrix,\n",
        "                              index=[f'Class {i}' for i in range(conf_matrix.shape[0])],\n",
        "                              columns=[f'Class {i}' for i in range(conf_matrix.shape[1])])\n",
        "\n",
        "plt.figure(figsize=(10, 8))\n",
        "sns.heatmap(conf_matrix_df, annot=True, fmt='d', cmap='Blues', cbar=True,\n",
        "            annot_kws={\"size\": 12}, linewidths=.5)\n",
        "plt.title('Confusion Matrix', fontsize=16)\n",
        "plt.xlabel('Predicted Class', fontsize=14)\n",
        "plt.ylabel('True Class', fontsize=14)\n",
        "plt.savefig('confusion_matrix.png', bbox_inches='tight')\n",
        "plt.show()"
      ]
    },
    {
      "cell_type": "code",
      "execution_count": null,
      "id": "bf10005f-7395-480a-a9c5-75798070a7e1",
      "metadata": {
        "id": "bf10005f-7395-480a-a9c5-75798070a7e1"
      },
      "outputs": [],
      "source": [
        "from io import StringIO\n",
        "report_df = pd.DataFrame(report).transpose()\n",
        "report_str = classification_report(y_test_classes, y_pred_classes)\n",
        "report_strio = StringIO(report_str)\n",
        "fig, ax = plt.subplots(figsize=(12, 8))  # Adjust size as needed\n",
        "ax.text(0.1, 0.95, report_str, {'fontsize': 12}, ha='left', va='top', family='monospace')\n",
        "ax.axis('off')\n",
        "plt.savefig('classification_report.png', bbox_inches='tight', dpi=300)\n",
        "plt.close()"
      ]
    },
    {
      "cell_type": "code",
      "execution_count": null,
      "id": "eecc84ea-bf20-4b23-b032-1a0b7195912c",
      "metadata": {
        "id": "eecc84ea-bf20-4b23-b032-1a0b7195912c"
      },
      "outputs": [],
      "source": []
    }
  ],
  "metadata": {
    "accelerator": "TPU",
    "colab": {
      "gpuType": "V28",
      "provenance": []
    },
    "kernelspec": {
      "display_name": "Python 3 (ipykernel)",
      "language": "python",
      "name": "python3"
    },
    "language_info": {
      "codemirror_mode": {
        "name": "ipython",
        "version": 3
      },
      "file_extension": ".py",
      "mimetype": "text/x-python",
      "name": "python",
      "nbconvert_exporter": "python",
      "pygments_lexer": "ipython3",
      "version": "3.9.18"
    }
  },
  "nbformat": 4,
  "nbformat_minor": 5
}